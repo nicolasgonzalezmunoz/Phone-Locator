{
 "cells": [
  {
   "cell_type": "code",
   "execution_count": null,
   "id": "01309f46",
   "metadata": {},
   "outputs": [],
   "source": [
    "import os\n",
    "import sys\n",
    "import optuna\n",
    "import torch\n",
    "from torchinfo import summary\n",
    "from torchvision.transforms import v2\n",
    "from torch.utils.data import DataLoader\n",
    "module_dir = os.path.dirname(os.path.abspath('__file__'))\n",
    "sys.path.append(os.path.dirname(module_dir))\n",
    "\n",
    "\n",
    "from modules.data import PhoneDataset\n",
    "from modules.models import PhoneNet\n",
    "from modules.training import EarlyStopping, ModelTrainer\n",
    "from modules.transforms import (\n",
    "    RandomHorizontalFlip,\n",
    "    RandomVerticalFlip,\n",
    "    RandomTranslation\n",
    ")\n",
    "from modules.utilities import (\n",
    "    get_data,\n",
    "    visualize_augmentations,\n",
    "    train_test_split\n",
    ")"
   ]
  },
  {
   "cell_type": "code",
   "execution_count": null,
   "id": "afc5abce",
   "metadata": {},
   "outputs": [],
   "source": [
    "folder = os.path.join('..', 'find_phone_data')\n",
    "seed = 0\n",
    "test_size = 0.1\n",
    "batch_size = 128\n",
    "patience = 5\n",
    "min_delta = 0.0\n",
    "loss_fn = torch.nn.MSELoss(reduction='sum')\n",
    "optimizer = torch.optim.Adam\n",
    "scheduler = torch.optim.lr_scheduler.ReduceLROnPlateau\n",
    "epochs = 50\n",
    "lr = 1e-2"
   ]
  },
  {
   "cell_type": "code",
   "execution_count": null,
   "id": "11a6af8e",
   "metadata": {},
   "outputs": [],
   "source": [
    "image_paths, locations = get_data(folder)\n",
    "print(image_paths[0])\n",
    "print(locations[os.path.basename(image_paths[0])])"
   ]
  },
  {
   "cell_type": "code",
   "execution_count": null,
   "id": "24394965",
   "metadata": {},
   "outputs": [],
   "source": [
    "train_image_paths, test_image_paths, train_locations, test_locations = train_test_split(\n",
    "    image_paths, locations, test_size, seed\n",
    ")\n",
    "print(train_image_paths[0])\n",
    "print(train_locations[os.path.basename(train_image_paths[0])])"
   ]
  },
  {
   "cell_type": "code",
   "execution_count": null,
   "id": "b3b01ecb",
   "metadata": {},
   "outputs": [],
   "source": [
    "aware_transforms = v2.Compose([\n",
    "    RandomHorizontalFlip(),\n",
    "    RandomVerticalFlip(),\n",
    "    RandomTranslation(),\n",
    "])\n",
    "train_dataset = PhoneDataset(train_image_paths, train_locations, aware_transforms)\n",
    "test_dataset = PhoneDataset(test_image_paths, test_locations)\n",
    "visualize_augmentations(train_dataset, train_locations, random_img=True)"
   ]
  },
  {
   "cell_type": "code",
   "execution_count": null,
   "id": "f5f5085a",
   "metadata": {},
   "outputs": [],
   "source": [
    "train_dataloader = DataLoader(train_dataset, batch_size=batch_size, shuffle=True)\n",
    "test_dataloader = DataLoader(test_dataset, batch_size=batch_size, shuffle=False)\n",
    "for X, y in train_dataloader:\n",
    "    print(f\"Shape of X [N, C, H, W]: {X.shape} {X.dtype}\")\n",
    "    print(f\"Shape of y: {y.shape} {y.dtype}\")\n",
    "    break"
   ]
  },
  {
   "cell_type": "code",
   "execution_count": null,
   "id": "35745266",
   "metadata": {},
   "outputs": [],
   "source": [
    "device = (\n",
    "    \"cuda\"\n",
    "    if torch.cuda.is_available()\n",
    "    else \"mps\"\n",
    "    if torch.backends.mps.is_available()\n",
    "    else \"cpu\"\n",
    ")\n",
    "\n",
    "early_stopping = EarlyStopping(15)\n",
    "\n",
    "model_trainer = ModelTrainer(\n",
    "    train_dataloader,\n",
    "    test_dataloader,\n",
    "    loss_fn,\n",
    "    optimizer,\n",
    "    early_stopping,\n",
    "    scheduler,\n",
    "    device\n",
    ")"
   ]
  },
  {
   "cell_type": "code",
   "execution_count": null,
   "id": "7980a450",
   "metadata": {},
   "outputs": [],
   "source": [
    "def objective(trial) -> float:\n",
    "    \"\"\"\n",
    "    Define a objective function for a hyper-parameter optimization task.\n",
    "\n",
    "    trial: optuna.trial.Trial\n",
    "        A Trial instance from optuna. Is set automatically.\n",
    "\n",
    "    Return\n",
    "    ------\n",
    "    score: float\n",
    "        The score on the test set of the model trained with the hyper-parameters\n",
    "        given by trial.\n",
    "    \"\"\"\n",
    "    in_channels = 3\n",
    "    factor = trial.suggest_int('factor', 2, 3)\n",
    "    n_res_layers = trial.suggest_int('n_res_layers', 2, 4)\n",
    "    n_dense_layers = trial.suggest_int('n_dense_layers', 1, 1)\n",
    "    p = trial.suggest_float('p', 0.1, 0.7)\n",
    "\n",
    "    model = PhoneNet(in_channels, factor, n_res_layers, n_dense_layers, p)\n",
    "\n",
    "    model_trainer(epochs, model, lr, silent=True)\n",
    "    model.eval()\n",
    "    score = 0\n",
    "    size = len(test_dataloader.dataset)\n",
    "    for X, y in test_dataloader:\n",
    "        X, y = X.to(device), y.to(device)\n",
    "        pred = model(X)\n",
    "        score += loss_fn(pred, y).item()\n",
    "    return score / size"
   ]
  },
  {
   "cell_type": "code",
   "execution_count": null,
   "id": "7f8d21a3",
   "metadata": {},
   "outputs": [],
   "source": [
    "sampler =  optuna.samplers.TPESampler(\n",
    "    seed=seed, multivariate=True, constant_liar=True,\n",
    "    warn_independent_sampling=False\n",
    ")\n",
    "pruner =  optuna.pruners.HyperbandPruner()\n",
    "n_trials = 50\n",
    "\n",
    "study = optuna.create_study(\n",
    "    direction='minimize', sampler=sampler, pruner=pruner,\n",
    "    study_name='phone-model', load_if_exists=True\n",
    ")\n",
    "\n",
    "study.optimize(\n",
    "    objective, n_trials=n_trials, timeout=60*n_trials*2, n_jobs=1,\n",
    "    show_progress_bar=True, gc_after_trial=True\n",
    ")"
   ]
  },
  {
   "cell_type": "code",
   "execution_count": null,
   "id": "feaa4461",
   "metadata": {},
   "outputs": [],
   "source": [
    "best_params = study.best_params\n",
    "best_params"
   ]
  },
  {
   "cell_type": "code",
   "execution_count": null,
   "id": "2faa8276",
   "metadata": {},
   "outputs": [],
   "source": [
    "c_in, h_in, w_in = 3, 326, 490\n",
    "factor = best_params['factor']\n",
    "n_res_layers = best_params['n_res_layers']\n",
    "n_dense_layers = best_params['n_dense_layers']\n",
    "p = best_params['p']"
   ]
  },
  {
   "cell_type": "code",
   "execution_count": null,
   "id": "260b1ac5",
   "metadata": {},
   "outputs": [],
   "source": [
    "model = PhoneNet(c_in, factor, n_res_layers, n_dense_layers, p)\n",
    "\n",
    "summary(\n",
    "    model=model,\n",
    "    input_size=(batch_size, c_in, h_in, w_in),\n",
    "    col_names=[\"input_size\", \"output_size\", \"num_params\"],\n",
    "    col_width=20,\n",
    "    row_settings=[\"var_names\"]\n",
    ")"
   ]
  },
  {
   "cell_type": "code",
   "execution_count": null,
   "id": "f3673ee3",
   "metadata": {},
   "outputs": [],
   "source": [
    "model_trainer(epochs, model, lr)"
   ]
  },
  {
   "cell_type": "code",
   "execution_count": null,
   "id": "f7440b06",
   "metadata": {},
   "outputs": [],
   "source": [
    "model.eval()\n",
    "train_size = len(train_dataloader.dataset)\n",
    "train_correct = 0\n",
    "for X, y in train_dataloader:\n",
    "    X, y = X.to(device), y.to(device)\n",
    "    pred = model(X)\n",
    "    correct = (torch.sum((y - pred)**2, dim=-1) < 0.05)\n",
    "    train_correct += correct.type(torch.float).sum().item()\n",
    "\n",
    "test_size = len(test_dataloader.dataset)\n",
    "test_correct = 0\n",
    "for X, y in test_dataloader:\n",
    "    X, y = X.to(device), y.to(device)\n",
    "    pred = model(X)\n",
    "    correct = (torch.sum((y - pred)**2, dim=-1) < 0.05)\n",
    "    test_correct += correct.type(torch.float).sum().item()\n",
    "\n",
    "print(f'Train set accuracy: {train_correct / train_size}')\n",
    "print(f'Test set accuracy: {test_correct / test_size}')"
   ]
  }
 ],
 "metadata": {
  "kernelspec": {
   "display_name": "Python 3 (ipykernel)",
   "language": "python",
   "name": "python3"
  },
  "language_info": {
   "codemirror_mode": {
    "name": "ipython",
    "version": 3
   },
   "file_extension": ".py",
   "mimetype": "text/x-python",
   "name": "python",
   "nbconvert_exporter": "python",
   "pygments_lexer": "ipython3",
   "version": "3.11.5"
  }
 },
 "nbformat": 4,
 "nbformat_minor": 5
}
